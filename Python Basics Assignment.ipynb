{
 "cells": [
  {
   "cell_type": "markdown",
   "id": "5349d1b4-629a-44b0-a7ac-059284271539",
   "metadata": {},
   "source": [
    "#                                   Theorical Question and Answers"
   ]
  },
  {
   "cell_type": "raw",
   "id": "6fdc6946-71c8-437d-9c79-2bfad06737a1",
   "metadata": {},
   "source": [
    "1. What is python, and why is it popular?\n",
    "Ans.     Python is a high level, interpreted programming language. It is known for it's simplicity and readability. It is designed by Guido Van Rossum           in late 1980's and officially released in 1991. It supportts multiple programming paradigms, including procedural, object-oriented, and                 functional programming.\n",
    "\n",
    "         It's popularity stems from :-\n",
    "         =>  It is easy to use as it contains simple syntaxes and it is beginner-friendly.\n",
    "         =>  It is used in wide range of applications, in Industries such as :-  web development, data science, artificial intelligence, machine                       learning, game development, automation and many more.\n",
    "         =>  It has a huge collection of libraries and frameworks, which makes development faster and more efficient.\n",
    "         =>  It runs on various operating systems. like Windows, MacOs and Linux. making it highly portable.                                "
   ]
  },
  {
   "cell_type": "raw",
   "id": "af68de5e-e087-4c37-a3af-1048cce44b6d",
   "metadata": {},
   "source": [
    "2. What is an interpreter in python?\n",
    "Ans.     An interpreter is a program that executes python code line by line, translating it into machine language. It allows the code to run directly            without compilation. This makes python easy to use for scripting and debugging. Interpreter also provides immediate feedback on errorrs during          execution."
   ]
  },
  {
   "cell_type": "raw",
   "id": "45ceab8b-fa3d-4c55-b775-0f1c1f97ba91",
   "metadata": {},
   "source": [
    "3. What are pre-defined keywords in python?\n",
    "Ans.     Pre-defined keywords in python are reserved words that have special meanings and purposes in the language."
   ]
  },
  {
   "cell_type": "raw",
   "id": "1cbad1d7-80e2-45bb-a982-5f5946889f46",
   "metadata": {},
   "source": [
    "4. Can keywords be used as variable names?\n",
    "Ans.     No, keywords cannot be used as variable names."
   ]
  },
  {
   "cell_type": "raw",
   "id": "e6c34480-b70f-41d0-8393-732b5b3627cd",
   "metadata": {},
   "source": [
    "5. What is mutability in python?\n",
    "Ans.     If the value of an object can be changed after they are created, then this ability of changing value is called as mutability."
   ]
  },
  {
   "cell_type": "raw",
   "id": "80e24fa9-c01b-4091-b77b-2798c7e4ff02",
   "metadata": {},
   "source": [
    "6. Why are lists mutable, but tuples are immutable?\n",
    "Ans.     Lists are mutable because they are designed for collecting various data which needs frequent changes like adding or removing elements. Where            as, Tuples are immutable to ensure data integrity and allows to use as dictionary keys or in sets."
   ]
  },
  {
   "cell_type": "raw",
   "id": "296d7757-66d5-416f-956a-f635828ac148",
   "metadata": {},
   "source": [
    "7. What is the difference beyween \"==\" and \"is\" operators in python?\n",
    "Ans.     The operator \"==\" checks weather if two objects have same values or not. Where as \"is\" operator checks weather if two objects are in same               memory location or not."
   ]
  },
  {
   "cell_type": "raw",
   "id": "ea4acf75-8a45-4655-a320-364df9f8dfe7",
   "metadata": {},
   "source": [
    "8. What are logical operators in python?\n",
    "Ans.     In python, logical operators are used to combine conditional statements like if, while, etc.                                                            There are 3 types of logical operators. They are :-           Logical AND\n",
    "                                                                       Logical OR\n",
    "                                                                       Logical NOT"
   ]
  },
  {
   "cell_type": "raw",
   "id": "7dc8e5e7-5440-4ed7-a4c6-af73841c5e16",
   "metadata": {},
   "source": [
    "9. what is type casting in python?\n",
    "Ans.     Convertion of one data type into another data type is called as type casting."
   ]
  },
  {
   "cell_type": "raw",
   "id": "bd59b045-1afc-44ad-8bae-acab9d1c77f4",
   "metadata": {},
   "source": [
    "10. What is the difference between implicit and explicit type casting?\n",
    "Ans.     Impliciit type casting is done automatically by python when it converts one data type to another like int to string. Where as, explicit type            casting is manually done by the programmer using functions like int(), float() or str()."
   ]
  },
  {
   "cell_type": "raw",
   "id": "8dca122a-6802-45ac-aa36-ed14d62dfe59",
   "metadata": {},
   "source": [
    "11. What is the purpose of conditional statements in python?\n",
    "Ans.     Conditional statements allows a program to make decisions based on weather a condition is true or false. They help to control the flow of               execution using if, if else, if elif else and nested if else statements."
   ]
  },
  {
   "cell_type": "raw",
   "id": "507a4487-dede-43ad-ab54-5679b93bc2e2",
   "metadata": {},
   "source": [
    "12. How does the elif statement work?\n",
    "Ans.     Elif statement is used after if statement. It is used to give multiple number of conditions/statements in a program. first if statement will            be checked. If it is satisfied it will go to the next statement which is elif. Now, if this elif statement is satisfied it will go to next              statement to check, or else it will block the code there itself and neglets the next statements and executes the program and so on. In this             way elif statement works."
   ]
  },
  {
   "cell_type": "raw",
   "id": "c17c9ff5-abf1-4e65-931f-636a763ee784",
   "metadata": {},
   "source": [
    "13. what is the difference between for and while loops?\n",
    "Ans.     A for loop is used to iterate over a sequence when the number of iterations is known where as while loop is used when the number of iterations          is not known and depends on a condition being true."
   ]
  },
  {
   "cell_type": "raw",
   "id": "87b546cc-c767-49e2-814a-e2ba69e4e2d0",
   "metadata": {},
   "source": [
    "14. Describe a scenario where a while loop is more suitable then a for loop.\n",
    "Ans.     The while loop is more suitable when we don't know how many iterations are needed at beginning. And the loop depends on a condition.\n",
    "         Ex scenario:- \n",
    "                 # when we want to get a particular user name from a user:-\n",
    "                 Name = \"\"\n",
    "                 while Name != \"Umesh\":\n",
    "                 Name = input(\"please enter the user name\")\n",
    "                Print(\"your user name is Umesh\")\n",
    "         Here, the loop runs until the correct user name is entered."
   ]
  },
  {
   "cell_type": "markdown",
   "id": "89ac5dc2-ce65-404b-a975-e422c1bd61b6",
   "metadata": {},
   "source": [
    "# Practical Question and Answers"
   ]
  },
  {
   "cell_type": "raw",
   "id": "e7df8dec-9c9b-4b45-98a7-310961d25580",
   "metadata": {},
   "source": [
    "1. Write a python program to print \"Hello, World!\""
   ]
  },
  {
   "cell_type": "code",
   "execution_count": 20,
   "id": "147951a4-d37b-4311-8a25-ae13c9bce737",
   "metadata": {},
   "outputs": [
    {
     "name": "stdout",
     "output_type": "stream",
     "text": [
      "Hello, World!\n"
     ]
    }
   ],
   "source": [
    "# Ans  \n",
    "\n",
    "print(\"Hello, World!\")"
   ]
  },
  {
   "cell_type": "raw",
   "id": "adda6d5a-97cc-4e19-b0f8-4f3c9535aad6",
   "metadata": {},
   "source": [
    "2. Write a python program that displays your name and age."
   ]
  },
  {
   "cell_type": "code",
   "execution_count": 22,
   "id": "3b2981c6-cb80-4fa3-bcc6-16936e14c13e",
   "metadata": {},
   "outputs": [
    {
     "name": "stdout",
     "output_type": "stream",
     "text": [
      "My name is umesh\n",
      "My age is 20\n"
     ]
    }
   ],
   "source": [
    "#Ans\n",
    "\n",
    "Name = \"umesh\"\n",
    "Age = 20\n",
    "print(\"My name is\",Name)\n",
    "print(\"My age is\",Age)"
   ]
  },
  {
   "cell_type": "raw",
   "id": "1a37405f-b723-4000-8366-6fd5b7736aa3",
   "metadata": {},
   "source": [
    "3. Write code to print all the pre-defined keywords in python using the keyword library."
   ]
  },
  {
   "cell_type": "code",
   "execution_count": 28,
   "id": "960536a1-a266-4c7a-b3f2-0ecf48d033ca",
   "metadata": {},
   "outputs": [
    {
     "name": "stdout",
     "output_type": "stream",
     "text": [
      "\n",
      "Here is a list of the Python keywords.  Enter any keyword to get more help.\n",
      "\n",
      "False               class               from                or\n",
      "None                continue            global              pass\n",
      "True                def                 if                  raise\n",
      "and                 del                 import              return\n",
      "as                  elif                in                  try\n",
      "assert              else                is                  while\n",
      "async               except              lambda              with\n",
      "await               finally             nonlocal            yield\n",
      "break               for                 not                 \n",
      "\n"
     ]
    }
   ],
   "source": [
    "#Ans\n",
    "\n",
    "help('keywords')"
   ]
  },
  {
   "cell_type": "raw",
   "id": "d5249cb6-3d4f-48ab-8397-2f78ccba3ded",
   "metadata": {},
   "source": [
    "4. Write a program that checks if a given word is a python keyword."
   ]
  },
  {
   "cell_type": "code",
   "execution_count": null,
   "id": "9a1084c2-86f2-49ce-b5e1-78c29b163207",
   "metadata": {},
   "outputs": [],
   "source": [
    "#Ans\n",
    "\n",
    "import keyword\n",
    "word = input(\"Enter a word:\")\n",
    "if keyword. iskeyword(word):\n",
    "    print(\"It is a python keyword.\")\n",
    "else:\n",
    "    print(\"It is not a python keyword.\")"
   ]
  },
  {
   "cell_type": "raw",
   "id": "089249d5-c3ba-4a1f-94a6-671a191bffec",
   "metadata": {},
   "source": [
    "5. Create a list and tuple in Python, and demonstrate how attempting to change an element works differently for each."
   ]
  },
  {
   "cell_type": "code",
   "execution_count": 15,
   "id": "bf821b7b-81ca-40db-adda-153c368dddd8",
   "metadata": {},
   "outputs": [
    {
     "name": "stdout",
     "output_type": "stream",
     "text": [
      "Original list: [1, 2, 3]\n",
      "Modified list: [1, 6, 3]\n",
      "Original tuple: (1, 2, 3)\n",
      "Error when modifying tuple: 'tuple' object does not support item assignment\n"
     ]
    }
   ],
   "source": [
    "#Ans\n",
    "\n",
    "list_ = [1, 2, 3]\n",
    "tuple_ = (1, 2, 3)\n",
    "# Modification of list\n",
    "print(\"Original list:\", list_)\n",
    "list_[1] = 6\n",
    "print(\"Modified list:\", list_)\n",
    "# Attemption to modify the tuple\n",
    "print(\"Original tuple:\", tuple_)\n",
    "try:\n",
    "    tuple_[1] = 6\n",
    "except TypeError as e:\n",
    "    print(\"Error when modifying tuple:\", e)"
   ]
  },
  {
   "cell_type": "raw",
   "id": "ea2fbac5-2fa5-4e0e-8259-6ae8bfaa7048",
   "metadata": {},
   "source": [
    "6. Write a function to demonstrate the behavior of mutable and immutable arguments."
   ]
  },
  {
   "cell_type": "code",
   "execution_count": 25,
   "id": "a7bfc5b9-e217-42cb-8cc4-ac971c4e953a",
   "metadata": {},
   "outputs": [
    {
     "name": "stdout",
     "output_type": "stream",
     "text": [
      "Original list: [1, 2, 3, 4]\n",
      "Modified list: [1, 6, 3, 4]\n",
      "Original tuple: (1, 2, 3, 4)\n",
      "Error when modifying tuple: 'tuple' object does not support item assignment\n"
     ]
    }
   ],
   "source": [
    "#Ans\n",
    "\n",
    "list_ = [1, 2, 3, 4]\n",
    "tuple_ = (1, 2, 3, 4)\n",
    "# Changing an element in the list\n",
    "print(\"Original list:\", list_)\n",
    "list_[1] = 6 \n",
    "print(\"Modified list:\", list_)\n",
    "# Trying to change an element in the tuple which is immutable\n",
    "print(\"Original tuple:\", tuple_)\n",
    "try:\n",
    "    tuple_[1] = 6 \n",
    "except TypeError as e:\n",
    "    print(\"Error when modifying tuple:\", e)\n",
    "\n",
    "# In the above program we can clearly observe the behaviour of both mutable and immutable objects."
   ]
  },
  {
   "cell_type": "raw",
   "id": "f9cadaf8-6889-4483-9bfe-0e7a9f2bbf6f",
   "metadata": {},
   "source": [
    "7. Write a function to demonstrate the behavior of mutable and immutable arguments."
   ]
  },
  {
   "cell_type": "code",
   "execution_count": 43,
   "id": "766531e4-b9e6-4934-bca1-2670f03e4235",
   "metadata": {},
   "outputs": [
    {
     "name": "stdout",
     "output_type": "stream",
     "text": [
      "Original list: [1, 2, 3]\n",
      "Modified list: [1, 6, 3]\n",
      "Original tuple: (1, 2, 3)\n",
      "Error when modifying tuple: 'tuple' object does not support item assignment\n"
     ]
    }
   ],
   "source": [
    "#Ans\n",
    "\n",
    "list_ = [1, 2, 3]\n",
    "tuple_ = (1, 2, 3)\n",
    "# Changing an element in the list\n",
    "print(\"Original list:\", list_)\n",
    "list_[1] = 6 \n",
    "print(\"Modified list:\", list_)\n",
    "# Trying to change an element in the tuple which is immutable\n",
    "print(\"Original tuple:\", tuple_)\n",
    "try:\n",
    "    tuple_[1] = 6 \n",
    "except TypeError as e:\n",
    "    print(\"Error when modifying tuple:\", e)\n",
    "\n",
    "# In the above program we can clearly observe the behaviour of both mutable and immutable objects."
   ]
  },
  {
   "cell_type": "raw",
   "id": "e276d9ba-1e44-4361-9ed9-4333615463bc",
   "metadata": {},
   "source": [
    "8. Write a program to demonstrate the use of logical operators."
   ]
  },
  {
   "cell_type": "code",
   "execution_count": 45,
   "id": "c542cf8e-de41-43d1-a33a-6313ea76177b",
   "metadata": {},
   "outputs": [
    {
     "name": "stdout",
     "output_type": "stream",
     "text": [
      "Checking weather the student is passed or failed using 'and'\n",
      "The student has passed the exam.\n",
      "\n",
      "checking weather the entered score is valid or not using 'or'\n",
      "Valid score is entered.\n",
      "\n",
      "checking weather the score is equal to the passing score or not using 'not'\n",
      "The score is not equal to the passing score.\n"
     ]
    }
   ],
   "source": [
    "#Ans\n",
    "\n",
    "Score = 85\n",
    "Passing_score = 28\n",
    "Total_score = 100\n",
    "print(\"Checking weather the student is passed or failed using 'and'\")\n",
    "if Score >= Passing_score and Score <= Total_score:\n",
    "    print(\"The student has passed the exam.\")\n",
    "else:\n",
    "    print(\"The student has failed the exam.\")\n",
    "print(\"\\nchecking weather the entered score is valid or not using 'or'\") #Invalid score means the score which is more then total score or less then zero.\n",
    "if Score < Passing_score or Score > Total_score:\n",
    "    print(\"Invalid score is entered.\")\n",
    "else:\n",
    "    print(\"Valid score is entered.\")\n",
    "print(\"\\nchecking weather the score is equal to the passing score or not using 'not'\")\n",
    "if not (Score == Passing_score):\n",
    "    print(\"The score is not equal to the passing score.\")\n",
    "else:\n",
    "    print(\"The score is equal to the passing score.\")\n",
    "\n",
    "# Hence, we have used the logical operators in the above program."
   ]
  },
  {
   "cell_type": "raw",
   "id": "51768f64-655a-4a57-8b4d-669632220072",
   "metadata": {},
   "source": [
    "9. Write a Python program to convert user input from string to integer, float, and boolean types."
   ]
  },
  {
   "cell_type": "code",
   "execution_count": 23,
   "id": "0a3995ec-841e-4b07-bb21-fb8a3906c800",
   "metadata": {},
   "outputs": [
    {
     "name": "stdin",
     "output_type": "stream",
     "text": [
      "Enter a value:  8\n"
     ]
    },
    {
     "name": "stdout",
     "output_type": "stream",
     "text": [
      "The integer value is: 8\n",
      "The float value is: 8.0\n",
      "The boolean value is: True\n"
     ]
    }
   ],
   "source": [
    "#Ans\n",
    "\n",
    "# We are taking user input as a string with variable name String\n",
    "String = input(\"Enter a value: \")\n",
    "# Converting string to integer\n",
    "try:\n",
    "    int_ = int(String)\n",
    "    print(f\"The integer value is: {int_}\")\n",
    "except ValueError:\n",
    "    print(\"Input cannot be converted to an integer.\")\n",
    "# Converting string to float\n",
    "try:\n",
    "    float_ = float(String)\n",
    "    print(f\"The float value is: {float_}\")\n",
    "except ValueError:\n",
    "    print(\"Input cannot be converted to a float.\")\n",
    "# Converting string to boolean\n",
    "bool_ = bool(String)\n",
    "print(f\"The boolean value is: {bool_}\")\n",
    "\n",
    "# Hence we have converted  a string to integer, float, and boolean types"
   ]
  },
  {
   "cell_type": "raw",
   "id": "8108c94d-25ae-4d62-b4dd-af76f60c3358",
   "metadata": {},
   "source": [
    "10. Write code to demonstrate type casting with list elements."
   ]
  },
  {
   "cell_type": "code",
   "execution_count": 1,
   "id": "fad5e929-5bc3-43df-ba86-a1d73c50d43b",
   "metadata": {},
   "outputs": [
    {
     "name": "stdout",
     "output_type": "stream",
     "text": [
      "Original List: ['1', '2.8', 34, 55.5]\n",
      "As Integers: [1, 2, 34, 55]\n",
      "As Floats: [1.0, 2.8, 34.0, 55.5]\n",
      "As Strings: ['1', '2.8', '34', '55.5']\n"
     ]
    }
   ],
   "source": [
    "# Ans\n",
    "\n",
    "my_list = ['1', '2.8', 34, 55.5]\n",
    "# Create new variables of lists for type casting of data\n",
    "int_list = []   \n",
    "float_list = [] \n",
    "str_list = []   \n",
    "for item in my_list:\n",
    "    # Converting to integers\n",
    "    try:\n",
    "        int_list.append(int(float(item))) \n",
    "    except ValueError:\n",
    "        pass \n",
    "    # Converting to floats\n",
    "    try:\n",
    "        float_list.append(float(item))\n",
    "    except ValueError:\n",
    "        pass\n",
    "    # Converting to strings\n",
    "    str_list.append(str(item))\n",
    "print(\"Original List:\", my_list)\n",
    "print(\"As Integers:\", int_list)\n",
    "print(\"As Floats:\", float_list)\n",
    "print(\"As Strings:\", str_list)\n",
    "\n",
    "# Hence, we have changed different types of elements in the list into Integers,Float values and Strings."
   ]
  },
  {
   "cell_type": "raw",
   "id": "314409ff-ceb0-47e3-9d24-7b5f1a395843",
   "metadata": {},
   "source": [
    "11. Write a program that checks if a number is positive, negative, or zero."
   ]
  },
  {
   "cell_type": "code",
   "execution_count": 21,
   "id": "dcb985d3-ad58-411e-9635-ebca1cb3dae9",
   "metadata": {},
   "outputs": [
    {
     "name": "stdin",
     "output_type": "stream",
     "text": [
      "Enter a number:  6\n"
     ]
    },
    {
     "name": "stdout",
     "output_type": "stream",
     "text": [
      "The number is positive.\n"
     ]
    }
   ],
   "source": [
    "# Ans\n",
    "\n",
    "number = int(input(\"Enter a number: \"))\n",
    "if number > 0:\n",
    "    print(\"The number is positive.\")\n",
    "elif number < 0:\n",
    "    print(\"The number is negative.\")\n",
    "else:\n",
    "    print(\"The number is zero.\")\n",
    "\n",
    "# We have written a program to check weather a number is positive, negative, or zero."
   ]
  },
  {
   "cell_type": "raw",
   "id": "7e6d21db-5968-418c-932a-91107521a465",
   "metadata": {},
   "source": [
    "12. Write a for loop to print numbers from 1 to 10."
   ]
  },
  {
   "cell_type": "code",
   "execution_count": 35,
   "id": "6df3b6b5-79df-4420-ae54-dd78335acaba",
   "metadata": {},
   "outputs": [
    {
     "name": "stdout",
     "output_type": "stream",
     "text": [
      "1\n",
      "2\n",
      "3\n",
      "4\n",
      "5\n",
      "6\n",
      "7\n",
      "8\n",
      "9\n",
      "10\n"
     ]
    }
   ],
   "source": [
    "#Ans\n",
    "\n",
    "for number in range(1,11):\n",
    "    print(number)\n",
    "\n",
    "# We have printed the numbers 1 to 10 by using for loop"
   ]
  },
  {
   "cell_type": "raw",
   "id": "e51bca44-16de-428b-ba93-2bddab60d701",
   "metadata": {},
   "source": [
    "13. Write a Python program to find the sum of all even numbers between 1 and 50."
   ]
  },
  {
   "cell_type": "code",
   "execution_count": 45,
   "id": "ea2ba58e-ba84-442e-937b-ee82cb7351cd",
   "metadata": {},
   "outputs": [
    {
     "name": "stdout",
     "output_type": "stream",
     "text": [
      "The sum of all even numbers between 1 and 50 is: 650\n"
     ]
    }
   ],
   "source": [
    "#Ans\n",
    "\n",
    "# creating a variable to store the sum\n",
    "sum_ = 0\n",
    "for number in range(1, 51):\n",
    "    if number % 2 == 0:\n",
    "        sum_ += number \n",
    "print(\"The sum of all even numbers between 1 and 50 is:\", sum_)\n",
    "\n",
    "# We have find the sum of all even numbers between 1 and 50."
   ]
  },
  {
   "cell_type": "raw",
   "id": "9acab548-1d5b-43bd-9d05-156f63bebb7b",
   "metadata": {},
   "source": [
    "14. Write a program to reverse a string using a while loop."
   ]
  },
  {
   "cell_type": "code",
   "execution_count": 53,
   "id": "b9a43a92-cde6-4a3c-a17e-743244c45428",
   "metadata": {},
   "outputs": [
    {
     "name": "stdin",
     "output_type": "stream",
     "text": [
      "Enter a string:  umesh\n"
     ]
    },
    {
     "name": "stdout",
     "output_type": "stream",
     "text": [
      "Reversed string: hsemu\n"
     ]
    }
   ],
   "source": [
    "#Ans\n",
    "\n",
    "string = input(\"Enter a string: \")\n",
    "reversed_string = \"\"\n",
    "position = len(string) - 1  \n",
    "while position >= 0:\n",
    "    reversed_string += string[position]  \n",
    "    position -= 1  \n",
    "print(\"Reversed string:\", reversed_string)\n",
    "\n",
    "# Hence we have written a program to reverse a string using the while loop."
   ]
  },
  {
   "cell_type": "raw",
   "id": "047b6dcc-bf80-4d86-9efa-a860d0d87808",
   "metadata": {},
   "source": [
    "15. Write a Python program to calculate the factorial of a number provided by the user using a while loop."
   ]
  },
  {
   "cell_type": "code",
   "execution_count": 7,
   "id": "b2bd331d-6e8e-4d58-ac84-ab1e1c601273",
   "metadata": {},
   "outputs": [
    {
     "name": "stdin",
     "output_type": "stream",
     "text": [
      "Enter a number to calculate its factorial:  4\n"
     ]
    },
    {
     "name": "stdout",
     "output_type": "stream",
     "text": [
      "The factorial of 4 is: 24\n"
     ]
    }
   ],
   "source": [
    "#Ans\n",
    "\n",
    "num = int(input(\"Enter a number to calculate its factorial: \"))\n",
    "factorial = 1\n",
    "i = num\n",
    "while i > 0:\n",
    "    factorial *= i \n",
    "    i -= 1 \n",
    "print(f\"The factorial of {num} is: {factorial}\")"
   ]
  }
 ],
 "metadata": {
  "kernelspec": {
   "display_name": "Python 3 (ipykernel)",
   "language": "python",
   "name": "python3"
  },
  "language_info": {
   "codemirror_mode": {
    "name": "ipython",
    "version": 3
   },
   "file_extension": ".py",
   "mimetype": "text/x-python",
   "name": "python",
   "nbconvert_exporter": "python",
   "pygments_lexer": "ipython3",
   "version": "3.12.7"
  }
 },
 "nbformat": 4,
 "nbformat_minor": 5
}
